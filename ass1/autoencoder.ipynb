{
 "cells": [
  {
   "cell_type": "code",
   "execution_count": null,
   "metadata": {
    "_cell_guid": "b1076dfc-b9ad-4769-8c92-a6c4dae69d19",
    "_uuid": "8f2839f25d086af736a60e9eeb907d3b93b6e0e5"
   },
   "outputs": [],
   "source": [
    "import os\n",
    "import numpy as np\n",
    "import pandas as pd\n",
    "import matplotlib.pyplot as plt\n",
    "from six.moves import cPickle as pickle\n",
    "from keras.layers import Dense, Input, Conv2D, LSTM, MaxPool2D, UpSampling2D\n",
    "from sklearn.model_selection import train_test_split\n",
    "from keras.callbacks import EarlyStopping\n",
    "from keras.utils import to_categorical\n",
    "from numpy import argmax, array_equal\n",
    "from keras.models import Model\n",
    "from imgaug import augmenters\n",
    "from random import randint"
   ]
  },
  {
   "cell_type": "code",
   "execution_count": null,
   "metadata": {
    "_cell_guid": "79c7e3d0-c299-4dcb-8224-4455121ee9b0",
    "_uuid": "d629ff2d2480ee46fbb7e2d37f6b5fab8052498a"
   },
   "outputs": [],
   "source": [
    "pkl_files = 'full_data.pickle'\n",
    "with open(pkl_files, 'rb') as file:\n",
    "    data = pickle.load(file)\n",
    "    print(data['train_dataset'].shape)\n",
    "    print(data['train_labels'].shape)\n",
    "    print(data['valid_dataset'].shape)\n",
    "    print(data['valid_labels'].shape)\n",
    "    print(data['test_dataset'].shape)\n",
    "    print(data['test_labels'].shape)"
   ]
  },
  {
   "cell_type": "code",
   "execution_count": null,
   "metadata": {
    "_uuid": "0753f9d7efcad243be87075159b2c2107a5848be"
   },
   "outputs": [],
   "source": [
    "train_x = data['train_dataset'].reshape(-1, 784)\n",
    "val_x = data['valid_dataset'].reshape(-1, 784)\n",
    "test_x = data['test_dataset'].reshape(-1, 784)\n",
    "\n",
    "print(train_x.shape)\n",
    "print(val_x.shape)\n",
    "print(test_x.shape)"
   ]
  },
  {
   "cell_type": "code",
   "execution_count": null,
   "metadata": {
    "_uuid": "b85e0128f5a7cc6689efb49b6b5b0a0d7f31955a"
   },
   "outputs": [],
   "source": [
    "## input layer\n",
    "input_layer = Input(shape=(784,))\n",
    "\n",
    "## encoding architecture\n",
    "encode_layer1 = Dense(1500, activation='relu')(input_layer)\n",
    "encode_layer2 = Dense(1000, activation='relu')(encode_layer1)\n",
    "encode_layer3 = Dense(500, activation='relu')(encode_layer2)\n",
    "\n",
    "## latent view\n",
    "latent_view   = Dense(10, activation='sigmoid')(encode_layer3)\n",
    "\n",
    "## decoding architecture\n",
    "decode_layer1 = Dense(500, activation='relu')(latent_view)\n",
    "decode_layer2 = Dense(1000, activation='relu')(decode_layer1)\n",
    "decode_layer3 = Dense(1500, activation='relu')(decode_layer2)\n",
    "\n",
    "## output layer\n",
    "output_layer  = Dense(784)(decode_layer3)\n",
    "\n",
    "model = Model(input_layer, output_layer)"
   ]
  },
  {
   "cell_type": "code",
   "execution_count": null,
   "metadata": {
    "_uuid": "e92489e172e9c7154bb1872c8f478fccfa9e1373"
   },
   "outputs": [],
   "source": [
    "model.summary()"
   ]
  },
  {
   "cell_type": "code",
   "execution_count": null,
   "metadata": {
    "_uuid": "9449a683ace6c1f7e11d0a0c91c7a0ce5e8f2b9f"
   },
   "outputs": [],
   "source": [
    "model.compile(optimizer='adam', loss='mse')\n",
    "early_stopping = EarlyStopping(monitor='val_loss', min_delta=0, patience=10, verbose=1, mode='auto')\n",
    "model.fit(train_x,\n",
    "          train_x,\n",
    "          epochs=20,\n",
    "          batch_size=2048,\n",
    "          validation_data=(val_x, val_x),\n",
    "          callbacks=[early_stopping])"
   ]
  },
  {
   "cell_type": "code",
   "execution_count": null,
   "metadata": {
    "_uuid": "981e779d7332039cc06a9abdd87012ed00b54b20"
   },
   "outputs": [],
   "source": [
    "preds = model.predict(test_x)"
   ]
  },
  {
   "cell_type": "code",
   "execution_count": null,
   "metadata": {
    "_uuid": "93aaa868b6423b4656b7328ae7593d876f7bdd2e"
   },
   "outputs": [],
   "source": [
    "test_x_pics = test_x.reshape(-1, 28, 28)\n",
    "preds_pics = preds.reshape(-1, 28, 28)"
   ]
  },
  {
   "cell_type": "code",
   "execution_count": null,
   "metadata": {
    "_uuid": "55dc3b619a0f3eb615a7012c414f3dcef2a1a5ed"
   },
   "outputs": [],
   "source": [
    "test_gt = []\n",
    "test_pred = []\n",
    "indices = np.random.choice(test_x_pics.shape[0], 5, replace=False)\n",
    "for idx in indices:\n",
    "    test_gt.append(test_x_pics[idx])\n",
    "    test_pred.append(preds_pics[idx])\n",
    "\n",
    "fig, ax = plt.subplots(2, 5, figsize=(5, 5))\n",
    "for j in range(5):\n",
    "    ax[0, j].get_xaxis().set_visible(False)\n",
    "    ax[0, j].get_yaxis().set_visible(False)\n",
    "    ax[0, j].cla()\n",
    "    ax[0, j].imshow(test_gt[j], cmap='gray')\n",
    "    \n",
    "for j in range(5):\n",
    "    ax[1, j].get_xaxis().set_visible(False)\n",
    "    ax[1, j].get_yaxis().set_visible(False)\n",
    "    ax[1, j].cla()\n",
    "    ax[1, j].imshow(test_pred[j], cmap='gray')\n",
    "\n",
    "plt.show()"
   ]
  },
  {
   "cell_type": "code",
   "execution_count": null,
   "metadata": {
    "_uuid": "cb0349cedf23ca1b43a4c57d3dce4881a87a5f42"
   },
   "outputs": [],
   "source": []
  }
 ],
 "metadata": {
  "kernelspec": {
   "display_name": "Python 3",
   "language": "python",
   "name": "python3"
  },
  "language_info": {
   "codemirror_mode": {
    "name": "ipython",
    "version": 3
   },
   "file_extension": ".py",
   "mimetype": "text/x-python",
   "name": "python",
   "nbconvert_exporter": "python",
   "pygments_lexer": "ipython3",
   "version": "3.5.5"
  }
 },
 "nbformat": 4,
 "nbformat_minor": 2
}
